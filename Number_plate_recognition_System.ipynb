{
 "cells": [
  {
   "cell_type": "code",
   "execution_count": 1,
   "metadata": {},
   "outputs": [
    {
     "name": "stdout",
     "output_type": "stream",
     "text": [
      "Saad Alam\n"
     ]
    }
   ],
   "source": [
    "print(\"Saad Alam\")"
   ]
  },
  {
   "cell_type": "code",
   "execution_count": 9,
   "metadata": {},
   "outputs": [],
   "source": [
    "import matplotlib.pyplot as plt"
   ]
  },
  {
   "cell_type": "code",
   "execution_count": 10,
   "metadata": {},
   "outputs": [],
   "source": [
    "import numpy as np\n",
    "import cv2"
   ]
  },
  {
   "cell_type": "code",
   "execution_count": 11,
   "metadata": {},
   "outputs": [],
   "source": [
    "import numpy as np\n",
    "import cv2\n",
    "\n",
    "# Match contours to license plate or character template\n",
    "def find_contours(dimensions, img):\n",
    "\n",
    "    # Find all contours in the image\n",
    "    cntrs, _ = cv2.findContours(img.copy(), cv2.RETR_TREE, cv2.CHAIN_APPROX_SIMPLE)\n",
    "    \n",
    "    # Retrieve potential dimensions\n",
    "    lower_width = dimensions[0]\n",
    "    upper_width = dimensions[1]\n",
    "    lower_height = dimensions[2]\n",
    "    upper_height = dimensions[3]\n",
    "    \n",
    "    # Check largest 5 or 15 contours for license plate or character respectively\n",
    "    cntrs = sorted(cntrs, key=cv2.contourArea, reverse=True)[:15]\n",
    "    \n",
    "    # Read the binary image\n",
    "    ii = cv2.imread('/home/saad/Desktop/ML Projects/Car-Number-Plate-Recognition-master/Car plate recognition Punjab/contour.jpg')\n",
    "\n",
    "    x_cntr_list = []\n",
    "    target_contours = []\n",
    "    img_res = []\n",
    "    \n",
    "    # Read all contours detected\n",
    "    for cntr in cntrs :\n",
    "        #detects contour in binary image and returns the coordinates of rectangle enclosing it\n",
    "        intX, intY, intWidth, intHeight = cv2.boundingRect(cntr)\n",
    "        \n",
    "        #checking the dimensions of the contour to filter out the characters by contour's size\n",
    "        if intWidth > lower_width and intWidth < upper_width and intHeight > lower_height and intHeight < upper_height :\n",
    "            \n",
    "            # stores the x coordinate of the character's contour, to used later for indexing the contours\n",
    "            x_cntr_list.append(intX)\n",
    "            char_copy = np.zeros((44,24))\n",
    "            \n",
    "            #extracting each character using the enclosing rectangle's coordinates.\n",
    "            char = img[intY:intY+intHeight, intX:intX+intWidth]\n",
    "            char = cv2.resize(char, (20, 40))\n",
    "            \n",
    "            # Draw rectangle around contour\n",
    "            cv2.rectangle(ii, (intX,intY), (intWidth+intX, intY+intHeight), (50,21,200), 2)\n",
    "            \n",
    "            # Display the uptated binary image with new contour\n",
    "            plt.imshow(ii, cmap='gray')\n",
    "            \n",
    "            # Make result formatted for classification: invert colors\n",
    "            char = cv2.subtract(255, char)\n",
    "            \n",
    "            # Resize the image to 24x44 with black border\n",
    "            char_copy[2:42, 2:22] = char\n",
    "            char_copy[0:2, :] = 0\n",
    "            char_copy[:, 0:2] = 0\n",
    "            char_copy[42:44, :] = 0\n",
    "            char_copy[:, 22:24] = 0\n",
    "            \n",
    "            # List that stores the character's binary image (unsorted)\n",
    "            img_res.append(char_copy) \n",
    "            \n",
    "    # arbitrary function that stores sorted list of character indeces\n",
    "    indices = sorted(range(len(x_cntr_list)), key=lambda k: x_cntr_list[k])\n",
    "    img_res_copy = []\n",
    "    \n",
    "    for idx in indices:\n",
    "        # stores character images according to their index\n",
    "        img_res_copy.append(img_res[idx])\n",
    "        \n",
    "    img_res = np.array(img_res_copy)\n",
    "   \n",
    "    return img_res"
   ]
  },
  {
   "cell_type": "code",
   "execution_count": 40,
   "metadata": {},
   "outputs": [],
   "source": [
    "def segment_characters(image):\n",
    "    # Resizing\n",
    "    img_lp = cv2.resize(image, (333, 75))\n",
    "    \n",
    "    # Apply gray scale\n",
    "    img_gray_lp = cv2.cvtColor(img_lp, cv2.COLOR_BGR2GRAY)\n",
    "    \n",
    "    # Convert to binary image\n",
    "    _, img_binary_lp = cv2.threshold(img_gray_lp, 200, 255, cv2.THRESH_BINARY+cv2.THRESH_OTSU)\n",
    "    \n",
    "    # Erode unwanted pixels\n",
    "    img_binary_lp = cv2.erode(img_binary_lp, (3,3))\n",
    "    \n",
    "    # Dilate unwanted pixels\n",
    "    img_binary_lp = cv2.dilate(img_binary_lp, (3,3))\n",
    "    \n",
    "    LP_WIDTH = img_binary_lp.shape[0]\n",
    "    LP_HEIGHT = img_binary_lp.shape[1]\n",
    "    \n",
    "    # Make borders white\n",
    "    img_binary_lp[0:3,:] = 255\n",
    "    img_binary_lp[:,0:3] = 255\n",
    "    img_binary_lp[72:75,:] = 255\n",
    "    img_binary_lp[:,330:333] = 255\n",
    "    \n",
    "    # Estimations of character contours sizes of cropped license plates\n",
    "    dimensions = [(LP_WIDTH/6) + 12.5, (LP_WIDTH/2) + 7.5, (LP_HEIGHT/10) - 15, 2 * LP_HEIGHT/3]\n",
    "    \n",
    "    # Visual display of binary image\n",
    "    plt.imshow(img_binary_lp, cmap='gray')\n",
    "    plt.show()\n",
    "    \n",
    "    # Create a binary image for next steps\n",
    "    cv2.imwrite('/home/saad/Desktop/ML Projects/Car-Number-Plate-Recognition-master/Car plate recognition Punjab/contour1.jpg',img_binary_lp)\n",
    "\n",
    "    # Get contours within cropped license plate\n",
    "    char_list = find_contours(dimensions, img_binary_lp)\n",
    "\n",
    "    return char_list\n",
    "\n"
   ]
  },
  {
   "cell_type": "code",
   "execution_count": 41,
   "metadata": {},
   "outputs": [
    {
     "data": {
      "image/png": "[encoded data removed]",
      "text/plain": [
       "<Figure size 432x288 with 1 Axes>"
      ]
     },
     "metadata": {
      "needs_background": "light"
     },
     "output_type": "display_data"
    },
    {
     "data": {
      "image/png": "[encoded data removed]",
      "text/plain": [
       "<Figure size 432x288 with 1 Axes>"
      ]
     },
     "metadata": {
      "needs_background": "light"
     },
     "output_type": "display_data"
    }
   ],
   "source": [
    "img = cv2.imread('/home/saad/Desktop/ML Projects/Car-Number-Plate-Recognition-master/Car plate recognition Punjab/car3.jpg')\n",
    "char = segment_characters(img)"
   ]
  },
  {
   "cell_type": "code",
   "execution_count": 42,
   "metadata": {},
   "outputs": [
    {
     "data": {
      "image/png": "[encoded data removed]",
      "text/plain": [
       "<Figure size 432x288 with 8 Axes>"
      ]
     },
     "metadata": {
      "needs_background": "light"
     },
     "output_type": "display_data"
    }
   ],
   "source": [
    "for i in range(len(char)):\n",
    "    plt.subplot(1, 10, i+1)\n",
    "    plt.imshow(char[i], cmap='gray')\n",
    "    plt.axis('off')"
   ]
  },
  {
   "cell_type": "code",
   "execution_count": 43,
   "metadata": {},
   "outputs": [
    {
     "data": {
      "text/plain": [
       "False"
      ]
     },
     "execution_count": 43,
     "metadata": {},
     "output_type": "execute_result"
    }
   ],
   "source": [
    "import tensorflow as tf\n",
    "tf.executing_eagerly()"
   ]
  },
  {
   "cell_type": "code",
   "execution_count": 44,
   "metadata": {},
   "outputs": [
    {
     "data": {
      "text/plain": [
       "False"
      ]
     },
     "execution_count": 44,
     "metadata": {},
     "output_type": "execute_result"
    }
   ],
   "source": [
    "tf.executing_eagerly()"
   ]
  },
  {
   "cell_type": "code",
   "execution_count": 45,
   "metadata": {},
   "outputs": [
    {
     "data": {
      "text/plain": [
       "False"
      ]
     },
     "execution_count": 45,
     "metadata": {},
     "output_type": "execute_result"
    }
   ],
   "source": [
    "import tensorflow.compat.v1 as tf\n",
    "tf.disable_v2_behavior()\n",
    "tf.executing_eagerly()"
   ]
  },
  {
   "cell_type": "code",
   "execution_count": 24,
   "metadata": {},
   "outputs": [
    {
     "name": "stdout",
     "output_type": "stream",
     "text": [
      "Found 864 images belonging to 36 classes.\n",
      "Found 216 images belonging to 36 classes.\n"
     ]
    }
   ],
   "source": [
    "from tensorflow.keras.preprocessing.image import ImageDataGenerator\n",
    "train_datagen = ImageDataGenerator(rescale=1./255, width_shift_range=0.1, height_shift_range=0.1)\n",
    "\n",
    "# Load training data\n",
    "train_generator = train_datagen.flow_from_directory('/home/saad/Desktop/ML Projects/Car-Number-Plate-Recognition-master/Car plate recognition Punjab/data/train', target_size=(28,28), batch_size=1, class_mode='categorical')\n",
    "\n",
    "# Load validation data\n",
    "validation_generator = train_datagen.flow_from_directory('/home/saad/Desktop/ML Projects/Car-Number-Plate-Recognition-master/Car plate recognition Punjab/data/validation', target_size=(28,28), batch_size=1, class_mode='categorical')\n"
   ]
  },
  {
   "cell_type": "code",
   "execution_count": 25,
   "metadata": {},
   "outputs": [],
   "source": [
    "from tensorflow.keras.models import Sequential\n",
    "from tensorflow.keras.layers import Dense, Flatten, MaxPooling2D, Dropout, Conv2D\n",
    "from tensorflow.keras import optimizers"
   ]
  },
  {
   "cell_type": "code",
   "execution_count": 33,
   "metadata": {},
   "outputs": [],
   "source": [
    "model = Sequential()\n",
    "model.add(Conv2D(32, (5,5), input_shape=(28, 28, 3), activation='relu', padding='same'))\n",
    "model.add(MaxPooling2D(pool_size=(2, 2)))\n",
    "model.add(Dropout(0.4))\n",
    "model.add(Flatten())\n",
    "model.add(Dense(128, activation='relu'))\n",
    "model.add(Dense(36, activation='softmax'))\n",
    "model.compile(loss='categorical_crossentropy', optimizer=optimizers.Adam(learning_rate=0.00001), metrics=['accuracy'])"
   ]
  },
  {
   "cell_type": "code",
   "execution_count": 34,
   "metadata": {},
   "outputs": [
    {
     "name": "stderr",
     "output_type": "stream",
     "text": [
      "<ipython-input-34-9de1401a4213>:2: UserWarning: `model.fit_generator` is deprecated and will be removed in a future version. Please use `Model.fit`, which supports generators.\n",
      "  model.fit_generator(train_generator, validation_data = validation_generator, epochs = 30)\n"
     ]
    },
    {
     "name": "stdout",
     "output_type": "stream",
     "text": [
      "Epoch 1/30\n",
      "861/864 [============================>.] - ETA: 0s - batch: 430.0000 - size: 1.0000 - loss: 3.5565 - acc: 0.0407"
     ]
    },
    {
     "name": "stderr",
     "output_type": "stream",
     "text": [
      "/home/saad/anaconda3/lib/python3.8/site-packages/keras/engine/training_v1.py:2057: UserWarning: `Model.state_updates` will be removed in a future version. This property should not be used in TensorFlow 2.0, as `updates` are applied automatically.\n",
      "  updates = self.state_updates\n"
     ]
    },
    {
     "name": "stdout",
     "output_type": "stream",
     "text": [
      "864/864 [==============================] - 11s 11ms/step - batch: 431.5000 - size: 1.0000 - loss: 3.5563 - acc: 0.0405 - val_loss: 3.4295 - val_acc: 0.1250\n",
      "Epoch 2/30\n",
      "864/864 [==============================] - 7s 8ms/step - batch: 431.5000 - size: 1.0000 - loss: 3.3674 - acc: 0.1273 - val_loss: 3.1852 - val_acc: 0.3148\n",
      "Epoch 3/30\n",
      "864/864 [==============================] - 7s 8ms/step - batch: 431.5000 - size: 1.0000 - loss: 3.0981 - acc: 0.2477 - val_loss: 2.8384 - val_acc: 0.4583\n",
      "Epoch 4/30\n",
      "864/864 [==============================] - 7s 8ms/step - batch: 431.5000 - size: 1.0000 - loss: 2.7127 - acc: 0.3623 - val_loss: 2.4144 - val_acc: 0.5833\n",
      "Epoch 5/30\n",
      "864/864 [==============================] - 7s 9ms/step - batch: 431.5000 - size: 1.0000 - loss: 2.2899 - acc: 0.4653 - val_loss: 1.9945 - val_acc: 0.6481\n",
      "Epoch 6/30\n",
      "864/864 [==============================] - 7s 8ms/step - batch: 431.5000 - size: 1.0000 - loss: 1.8794 - acc: 0.5567 - val_loss: 1.7248 - val_acc: 0.6667\n",
      "Epoch 7/30\n",
      "864/864 [==============================] - 7s 8ms/step - batch: 431.5000 - size: 1.0000 - loss: 1.5630 - acc: 0.6296 - val_loss: 1.4823 - val_acc: 0.6806\n",
      "Epoch 8/30\n",
      "864/864 [==============================] - 7s 8ms/step - batch: 431.5000 - size: 1.0000 - loss: 1.3872 - acc: 0.6516 - val_loss: 1.1458 - val_acc: 0.7778\n",
      "Epoch 9/30\n",
      "864/864 [==============================] - 7s 8ms/step - batch: 431.5000 - size: 1.0000 - loss: 1.2232 - acc: 0.6817 - val_loss: 1.0637 - val_acc: 0.7778\n",
      "Epoch 10/30\n",
      "864/864 [==============================] - 7s 8ms/step - batch: 431.5000 - size: 1.0000 - loss: 1.0788 - acc: 0.7072 - val_loss: 0.9301 - val_acc: 0.7963\n",
      "Epoch 11/30\n",
      "864/864 [==============================] - 7s 8ms/step - batch: 431.5000 - size: 1.0000 - loss: 0.9858 - acc: 0.7269 - val_loss: 0.8680 - val_acc: 0.8056\n",
      "Epoch 12/30\n",
      "864/864 [==============================] - 7s 8ms/step - batch: 431.5000 - size: 1.0000 - loss: 0.8679 - acc: 0.7581 - val_loss: 0.7398 - val_acc: 0.8333\n",
      "Epoch 13/30\n",
      "864/864 [==============================] - 7s 8ms/step - batch: 431.5000 - size: 1.0000 - loss: 0.8443 - acc: 0.7512 - val_loss: 0.6243 - val_acc: 0.8935\n",
      "Epoch 14/30\n",
      "864/864 [==============================] - 8s 9ms/step - batch: 431.5000 - size: 1.0000 - loss: 0.7961 - acc: 0.7627 - val_loss: 0.5734 - val_acc: 0.8889\n",
      "Epoch 15/30\n",
      "864/864 [==============================] - 7s 9ms/step - batch: 431.5000 - size: 1.0000 - loss: 0.6927 - acc: 0.8056 - val_loss: 0.5835 - val_acc: 0.8565\n",
      "Epoch 16/30\n",
      "864/864 [==============================] - 7s 8ms/step - batch: 431.5000 - size: 1.0000 - loss: 0.6635 - acc: 0.8125 - val_loss: 0.4937 - val_acc: 0.8889\n",
      "Epoch 17/30\n",
      "864/864 [==============================] - 7s 8ms/step - batch: 431.5000 - size: 1.0000 - loss: 0.5906 - acc: 0.8380 - val_loss: 0.5170 - val_acc: 0.8565\n",
      "Epoch 18/30\n",
      "864/864 [==============================] - 7s 8ms/step - batch: 431.5000 - size: 1.0000 - loss: 0.5767 - acc: 0.8264 - val_loss: 0.4043 - val_acc: 0.9306\n",
      "Epoch 19/30\n",
      "864/864 [==============================] - 7s 8ms/step - batch: 431.5000 - size: 1.0000 - loss: 0.5413 - acc: 0.8438 - val_loss: 0.5031 - val_acc: 0.8889\n",
      "Epoch 20/30\n",
      "864/864 [==============================] - 7s 8ms/step - batch: 431.5000 - size: 1.0000 - loss: 0.5323 - acc: 0.8461 - val_loss: 0.4739 - val_acc: 0.8843\n",
      "Epoch 21/30\n",
      "864/864 [==============================] - 7s 8ms/step - batch: 431.5000 - size: 1.0000 - loss: 0.4695 - acc: 0.8669 - val_loss: 0.3912 - val_acc: 0.9167\n",
      "Epoch 22/30\n",
      "864/864 [==============================] - 7s 8ms/step - batch: 431.5000 - size: 1.0000 - loss: 0.4728 - acc: 0.8576 - val_loss: 0.4238 - val_acc: 0.8843\n",
      "Epoch 23/30\n",
      "864/864 [==============================] - 7s 8ms/step - batch: 431.5000 - size: 1.0000 - loss: 0.4321 - acc: 0.8646 - val_loss: 0.4006 - val_acc: 0.8981\n",
      "Epoch 24/30\n",
      "864/864 [==============================] - 7s 8ms/step - batch: 431.5000 - size: 1.0000 - loss: 0.4555 - acc: 0.8565 - val_loss: 0.4042 - val_acc: 0.9120\n",
      "Epoch 25/30\n",
      "864/864 [==============================] - 7s 8ms/step - batch: 431.5000 - size: 1.0000 - loss: 0.3942 - acc: 0.8831 - val_loss: 0.3137 - val_acc: 0.9213\n",
      "Epoch 26/30\n",
      "864/864 [==============================] - 7s 8ms/step - batch: 431.5000 - size: 1.0000 - loss: 0.4280 - acc: 0.8750 - val_loss: 0.3271 - val_acc: 0.9352\n",
      "Epoch 27/30\n",
      "864/864 [==============================] - 7s 8ms/step - batch: 431.5000 - size: 1.0000 - loss: 0.3907 - acc: 0.8796 - val_loss: 0.2842 - val_acc: 0.9444\n",
      "Epoch 28/30\n",
      "864/864 [==============================] - 7s 9ms/step - batch: 431.5000 - size: 1.0000 - loss: 0.4142 - acc: 0.8646 - val_loss: 0.2665 - val_acc: 0.9583\n",
      "Epoch 29/30\n",
      "864/864 [==============================] - 7s 8ms/step - batch: 431.5000 - size: 1.0000 - loss: 0.3522 - acc: 0.8866 - val_loss: 0.3075 - val_acc: 0.9398\n",
      "Epoch 30/30\n",
      "864/864 [==============================] - 7s 8ms/step - batch: 431.5000 - size: 1.0000 - loss: 0.3450 - acc: 0.8935 - val_loss: 0.3033 - val_acc: 0.9259\n"
     ]
    },
    {
     "data": {
      "text/plain": [
       "<keras.callbacks.History at 0x7fdfce6077f0>"
      ]
     },
     "execution_count": 34,
     "metadata": {},
     "output_type": "execute_result"
    }
   ],
   "source": [
    "batch_size = 1\n",
    "model.fit_generator(train_generator, validation_data = validation_generator, epochs = 30)"
   ]
  },
  {
   "cell_type": "code",
   "execution_count": 46,
   "metadata": {},
   "outputs": [
    {
     "name": "stdout",
     "output_type": "stream",
     "text": [
      "Predicted character/numbers =  4L8E6A1A\n"
     ]
    }
   ],
   "source": [
    "def fix_dimension(img): \n",
    "  new_img = np.zeros((28,28,3))\n",
    "  for i in range(3):\n",
    "    new_img[:,:,i] = img\n",
    "  return new_img\n",
    "\n",
    "# Predicting the character/number from contours using trained model\n",
    "def show_results():\n",
    "    dic = {}\n",
    "    characters = '0123456789ABCDEFGHIJKLMNOPQRSTUVWXYZ'\n",
    "    for i,c in enumerate(characters):\n",
    "        dic[i] = c\n",
    "    output = []\n",
    "    for i,ch in enumerate(char): # iterating over the characters\n",
    "        img_ = cv2.resize(ch, (28,28))\n",
    "        img = fix_dimension(img_)\n",
    "        img = img.reshape(1,28,28,3) # preparing image for the model\n",
    "        y_ = model.predict(img)[0] # predicting the class\n",
    "        character = dic[np.argmax(y_)] # get the predicted character\n",
    "        output.append(character) # storing the result in a list\n",
    "        \n",
    "    plate_number = ''.join(output)\n",
    "    \n",
    "    return plate_number\n",
    "\n",
    "print(\"Predicted character/numbers = \", show_results())\n",
    "\n"
   ]
  },
  {
   "cell_type": "code",
   "execution_count": 47,
   "metadata": {},
   "outputs": [
    {
     "data": {
      "image/png": "[encoded data removed]",
      "text/plain": [
       "<Figure size 720x432 with 4 Axes>"
      ]
     },
     "metadata": {
      "needs_background": "light"
     },
     "output_type": "display_data"
    },
    {
     "data": {
      "image/png": "[encoded data removed]",
      "text/plain": [
       "<Figure size 720x432 with 4 Axes>"
      ]
     },
     "metadata": {
      "needs_background": "light"
     },
     "output_type": "display_data"
    }
   ],
   "source": [
    "plt.figure(figsize=(10,6))\n",
    "\n",
    "# First print characters\n",
    "for i,ch in enumerate(char):\n",
    "    if i % 2 == 1:\n",
    "        img = cv2.resize(ch, (28,28))\n",
    "        plt.subplot(3,4,i+1)\n",
    "        plt.imshow(img,cmap='gray')\n",
    "        plt.title(f'predicted: {show_results()[i]}')\n",
    "        plt.axis('off')\n",
    "plt.show()\n",
    "\n",
    "plt.figure(figsize=(10,6))\n",
    "# Print numbers\n",
    "for i,ch in enumerate(char):\n",
    "    if i % 2 == 0:\n",
    "        img = cv2.resize(ch, (28,28))\n",
    "        plt.subplot(3,4,i+1)\n",
    "        plt.imshow(img,cmap='gray')\n",
    "        plt.title(f'predicted: {show_results()[i]}')\n",
    "        plt.axis('off')\n",
    "plt.show()"
   ]
  }
 ],
 "metadata": {
  "kernelspec": {
   "display_name": "Python 3",
   "language": "python",
   "name": "python3"
  },
  "language_info": {
   "codemirror_mode": {
    "name": "ipython",
    "version": 3
   },
   "file_extension": ".py",
   "mimetype": "text/x-python",
   "name": "python",
   "nbconvert_exporter": "python",
   "pygments_lexer": "ipython3",
   "version": "3.8.5"
  }
 },
 "nbformat": 4,
 "nbformat_minor": 4
}
